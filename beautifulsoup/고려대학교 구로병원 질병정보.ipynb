{
 "cells": [
  {
   "cell_type": "markdown",
   "metadata": {},
   "source": [
    "## 고려대학교 구로병원 질병정보 크롤링\n",
    "\n",
    "### 1. 주의사항\n",
    "1. 총 46page로 구성되어있는데, 웹에서 크롤링을 중간에 자주 막습니다. (5page 단위로 할 때는 괜찮았음)\n",
    "2. 함수로 모듈단위로 코드를 짜려했으나,일회성 코드라 그냥 바로 짰습니다."
   ]
  },
  {
   "cell_type": "code",
   "execution_count": 9,
   "metadata": {},
   "outputs": [],
   "source": [
    "import time\n",
    "import os\n",
    "import json\n",
    "import csv\n",
    "from datetime import datetime"
   ]
  },
  {
   "cell_type": "code",
   "execution_count": 10,
   "metadata": {},
   "outputs": [],
   "source": [
    "import requests\n",
    "from bs4 import BeautifulSoup\n",
    "import pandas as pd"
   ]
  },
  {
   "cell_type": "code",
   "execution_count": 11,
   "metadata": {},
   "outputs": [],
   "source": [
    "from selenium import webdriver\n",
    "from selenium.webdriver.support.ui import WebDriverWait\n",
    "from selenium.webdriver.support import expected_conditions as EC \n",
    "from selenium.webdriver.common.by import By"
   ]
  },
  {
   "cell_type": "code",
   "execution_count": 12,
   "metadata": {},
   "outputs": [],
   "source": [
    "from bs4 import BeautifulSoup\n",
    "from selenium import webdriver\n",
    "from selenium.common import exceptions\n",
    "from collections import defaultdict\n"
   ]
  },
  {
   "cell_type": "markdown",
   "metadata": {},
   "source": [
    "# page 범위를 직접 조정하여 csv파일을 일일이 복붙했습니다\n",
    "# (1 page ~ 47 page로 크롤링하면 중간에 서버가 끊깁니다\n",
    "# write mode를 \"a\"가 아니라 \"w\"로 한 이유도, 중간에 서버가 끊기면 파일이 열리지 않아서 w로 작성한 후 일일이 수작업으로 복붙했습니다"
   ]
  },
  {
   "cell_type": "code",
   "execution_count": 36,
   "metadata": {},
   "outputs": [
    {
     "name": "stdout",
     "output_type": "stream",
     "text": [
      "=====================\n",
      "45\n",
      "=====================\n",
      "\n",
      "\n",
      "=====================\n",
      "\n",
      "\n",
      "\n",
      "냉방병(냉방 증후군)\n",
      "\n",
      " 가정의학과\n",
      "=====================\n",
      "=====================\n",
      "\n",
      "\n",
      "\n",
      "여름철 건강정보 Ⅱ\n",
      "\n",
      " 가정의학과\n",
      "=====================\n",
      "=====================\n",
      "\n",
      "\n",
      "\n",
      "여름철 건강정보 Ⅰ\n",
      "\n",
      " 가정의학과\n",
      "=====================\n",
      "=====================\n",
      "\n",
      "\n",
      "\n",
      "계절별 건강\n",
      "\n",
      " 가정의학과\n",
      "=====================\n",
      "=====================\n",
      "\n",
      "\n",
      "\n",
      "체중 감소\n",
      "\n",
      " 가정의학과\n",
      "=====================\n",
      "=====================\n",
      "\n",
      "\n",
      "\n",
      "헛구역질\n",
      "\n",
      " 가정의학과\n",
      "=====================\n",
      "=====================\n",
      "\n",
      "\n",
      "\n",
      "열사병\n",
      "\n",
      " 가정의학과\n",
      "=====================\n",
      "=====================\n",
      "\n",
      "\n",
      "\n",
      "여성부종\n",
      "\n",
      " 가정의학과\n",
      "=====================\n",
      "=====================\n",
      "\n",
      "\n",
      "\n",
      "비디오 디스플레이 터미널 증후군\n",
      "\n",
      " 가정의학과\n",
      "=====================\n",
      "=====================\n",
      "\n",
      "\n",
      "\n",
      "만성피로증후군\n",
      "\n",
      " 가정의학과\n",
      "=====================\n",
      "=====================\n",
      "46\n",
      "=====================\n",
      "\n",
      "\n",
      "=====================\n",
      "\n",
      "\n",
      "\n",
      "딸꾹질\n",
      "\n",
      " 가정의학과\n",
      "=====================\n",
      "=====================\n",
      "\n",
      "\n",
      "\n",
      "독감\n",
      "\n",
      " 가정의학과\n",
      "=====================\n",
      "=====================\n",
      "\n",
      "\n",
      "\n",
      "비만\n",
      "\n",
      " 가정의학과\n",
      "=====================\n"
     ]
    }
   ],
   "source": [
    "kumc_cnt = open(\"kumc_cnt.csv\", \"w\", encoding = 'utf-8-sig', newline='')\n",
    "wr = csv.writer(kumc_cnt)\n",
    "# csv file header 작성\n",
    "wr.writerow(['질환명', '진료과', '질환 설명'])\n",
    "\n",
    "# 1 ~ 46page까지 있습니다.\n",
    "for page in range(\"페이지 입력하세요\", \"페이지 입력하세요\"):\n",
    "    url = 'http://guro.kumc.or.kr/info/diseaseSchList.do?cPage='+ str(page) +'&BOARD_ID=S001'\n",
    "    req = requests.get(url)\n",
    "    cont = req.content\n",
    "    soup = BeautifulSoup(cont, 'html.parser')\n",
    "    \n",
    "    # page 접속 후 질병이름, 진료과, 질병이름 상세페이지에 대한 링크 획득\n",
    "    for i in range(2, 12):\n",
    "        try: \n",
    "            # dis_info (lifst)에 담은 후 바로 csv file에 작성합니다.\n",
    "            dis_info = list()\n",
    "            name = soup.select('tr:nth-of-type(' + str(i)+ ')> td:nth-of-type(1)')[0].text.replace(\"\\t\", \"\")\n",
    "            depart = soup.select('tr:nth-of-type(' + str(i)+ ')> td:nth-of-type(2)')[0].text\n",
    "            dis_info.append(name)\n",
    "            dis_info.append(depart)\n",
    " \n",
    "            # link를 따온 후 상세페이지로 들어갑니다.\n",
    "            link = soup.select('tr:nth-of-type(2) > td.subject a')[0]['href']\n",
    "            detail_url = 'http://guro.kumc.or.kr' + link\n",
    "            n_req = requests.get(detail_url)\n",
    "            n_cont = n_req.content\n",
    "            n_soup = BeautifulSoup(n_cont, 'html.parser')\n",
    "\n",
    "            # content에 상세 설명을 담습니다.\n",
    "            content = n_soup.select('#contentArea > table')[0].text\n",
    "            dis_info.append(content)\n",
    "\n",
    "            #dis_info를 csv 파일에 적어줍니다.\n",
    "            wr.writerow(dis_info)\n",
    "        except:\n",
    "            # 마지막 페이지에서 슬라이싱이 중간에 끊겨서 예외처리 추가함\n",
    "            pass\n",
    "        \n",
    "kumc_cnt.close()       \n",
    "    \n",
    "    \n",
    "    \n",
    "    \n",
    "    "
   ]
  },
  {
   "cell_type": "code",
   "execution_count": null,
   "metadata": {},
   "outputs": [],
   "source": []
  },
  {
   "cell_type": "code",
   "execution_count": null,
   "metadata": {},
   "outputs": [],
   "source": []
  },
  {
   "cell_type": "code",
   "execution_count": null,
   "metadata": {},
   "outputs": [],
   "source": []
  },
  {
   "cell_type": "code",
   "execution_count": null,
   "metadata": {},
   "outputs": [],
   "source": []
  },
  {
   "cell_type": "code",
   "execution_count": null,
   "metadata": {},
   "outputs": [],
   "source": []
  },
  {
   "cell_type": "code",
   "execution_count": 177,
   "metadata": {},
   "outputs": [],
   "source": []
  },
  {
   "cell_type": "markdown",
   "metadata": {},
   "source": [
    "# 연습장 (아래 내용은 보실 필요 없습니다)"
   ]
  },
  {
   "cell_type": "code",
   "execution_count": null,
   "metadata": {},
   "outputs": [],
   "source": [
    "# 전체 page get 함수\n",
    "def get_totalPage(url = \"http://guro.kumc.or.kr/info/diseaseSchList.do?cPage=1&BOARD_ID=S001\"):\n",
    "    req = requests.get(url)\n",
    "    cont = req.content\n",
    "    soup = BeautifulSoup(cont, 'html.parser')\n",
    "    \n",
    "    total_num = soup.select(\"div.paging\")[0]\n",
    "    print(total_num)"
   ]
  },
  {
   "cell_type": "code",
   "execution_count": 138,
   "metadata": {},
   "outputs": [],
   "source": [
    "# def 질병명, 진료과 수집기\n",
    "#     (string) -> dictionary\n",
    "#     Args:\n",
    "#         url(string): 고려대 구로병원 건강정보 url\n",
    "#     Return:\n",
    "#         nameNdepart(dict):'질병명(key) - 진료과(value)'\n",
    "\n",
    "\n",
    "def get_nameNdepart(url = \"http://guro.kumc.or.kr/info/diseaseSchList.do?cPage=1&BOARD_ID=S001\"):\n",
    "    req = requests.get(url)\n",
    "    cont = req.content\n",
    "    soup = BeautifulSoup(cont, 'html.parser')\n",
    "    \n",
    "    nameNdepart = dict()\n",
    "    for i in range(2, 12):\n",
    "        name = soup.select('tr:nth-of-type(' + str(i)+ ')> td:nth-of-type(1)')[0].text.split()[0]\n",
    "        depart = soup.select('tr:nth-of-type(' + str(i)+ ')> td:nth-of-type(2)')[0].text\n",
    "        link = soup.select('tr:nth-of-type(2) > td.subject a')[0]['href']\n",
    "        nameNdepart[name] = [depart, link]\n",
    "        \n",
    "    return nameNdepart\n",
    "        \n",
    "    "
   ]
  },
  {
   "cell_type": "code",
   "execution_count": 228,
   "metadata": {},
   "outputs": [],
   "source": [
    "# def 질병명, 진료과 수집기\n",
    "#     (string) -> dictionary\n",
    "#     Args:\n",
    "#         url(string): 고려대 구로병원 건강정보 url\n",
    "#     Return:\n",
    "#         nameNdepart(dict):'질병명(key) - 진료과(value)'\n",
    "\n",
    "\n",
    "def get_nameNdepart(url = \"http://guro.kumc.or.kr/info/diseaseSchList.do?cPage=1&BOARD_ID=S001\"):\n",
    "    req = requests.get(url)\n",
    "    cont = req.content\n",
    "    soup = BeautifulSoup(cont, 'html.parser')\n",
    "    \n",
    "    nameNdepart = dict()\n",
    "    for i in range(2, 12):\n",
    "        name = soup.select('tr:nth-of-type(' + str(i)+ ')> td:nth-of-type(1)')[0].text.split()[0]\n",
    "        depart = soup.select('tr:nth-of-type(' + str(i)+ ')> td:nth-of-type(2)')[0].text\n",
    "        link = soup.select('tr:nth-of-type(2) > td.subject a')[0]['href']\n",
    "        nameNdepart[name] = [[depart], [link]]\n",
    "        \n",
    "    return nameNdepart\n",
    "        \n",
    "    "
   ]
  },
  {
   "cell_type": "code",
   "execution_count": 258,
   "metadata": {
    "scrolled": true
   },
   "outputs": [],
   "source": [
    "def get_content(nameNdepart):\n",
    "    \"\"\"\n",
    "    (dict) -> dict\n",
    "    \"\"\"\n",
    "    nameNcnt = dict()\n",
    "    \n",
    "    for name in nameNdepart.keys():\n",
    "        url = 'http://guro.kumc.or.kr' + nameNdepart[name][1][0]\n",
    "        req = requests.get(url)\n",
    "        cont = req.content\n",
    "        soup = BeautifulSoup(cont, 'html.parser')\n",
    "        content = soup.select('#contentArea > table')[0].text\n",
    "        nameNcnt[name] = content \n",
    "     \n",
    "    return nameNcnt"
   ]
  },
  {
   "cell_type": "code",
   "execution_count": null,
   "metadata": {},
   "outputs": [],
   "source": [
    "if __name__ == \"__main__\":\n",
    "    main()    "
   ]
  },
  {
   "cell_type": "code",
   "execution_count": null,
   "metadata": {},
   "outputs": [],
   "source": []
  },
  {
   "cell_type": "code",
   "execution_count": null,
   "metadata": {},
   "outputs": [],
   "source": []
  },
  {
   "cell_type": "code",
   "execution_count": 272,
   "metadata": {},
   "outputs": [],
   "source": [
    "def main():\n",
    "    ## 총 페이지수: 46page\n",
    "    total_df = pd.DataFrame()\n",
    "    for page in range(1, 5):\n",
    "        print(page)\n",
    "        url = 'http://guro.kumc.or.kr/info/diseaseSchList.do?cPage='+ str(page) +'&BOARD_ID=S001'\n",
    "        nameNdepart = get_nameNdepart(url)\n",
    "        nameNcontent = get_content(nameNdepart)\n",
    "        \n",
    "        df = pd.DataFrame(index = range(0,10), columns = ['질병 이름', '진료과', '내용'])\n",
    "        \n",
    "        for i, name in enumerate(nameNcontent):\n",
    "            df['질병 이름'][i] = name\n",
    "            df['진료과'][i] = nameNdepart[name][0]\n",
    "            df['내용'][i] = nameNcontent[name]\n",
    "        \n",
    "        if page != 1:\n",
    "            total_df = pd.concat([total_df, df], axis=1)\n",
    "        else:\n",
    "            pass\n",
    "    total_df.to_csv(\"%s~total.csv\" % (str(page)), encoding=\"utf-8\")"
   ]
  },
  {
   "cell_type": "code",
   "execution_count": 273,
   "metadata": {
    "scrolled": true
   },
   "outputs": [
    {
     "name": "stdout",
     "output_type": "stream",
     "text": [
      "1\n",
      "2\n",
      "3\n",
      "4\n"
     ]
    }
   ],
   "source": [
    "if __name__ == \"__main__\":\n",
    "    main()"
   ]
  },
  {
   "cell_type": "code",
   "execution_count": null,
   "metadata": {},
   "outputs": [],
   "source": []
  },
  {
   "cell_type": "code",
   "execution_count": null,
   "metadata": {},
   "outputs": [],
   "source": []
  },
  {
   "cell_type": "code",
   "execution_count": null,
   "metadata": {},
   "outputs": [],
   "source": []
  },
  {
   "cell_type": "code",
   "execution_count": 234,
   "metadata": {
    "scrolled": true
   },
   "outputs": [],
   "source": [
    "df = pd.DataFrame(index = range(0,10), columns = ['질병 이름', '진료과', '내용'])\n",
    "\n",
    "for i, name in enumerate(nameNcontent):\n",
    "    df['질병 이름'][i] = name\n",
    "    df['진료과'][i] = nameNdepart[name][0]\n",
    "    df['내용'][i] = nameNcontent[name]\n"
   ]
  },
  {
   "cell_type": "code",
   "execution_count": 243,
   "metadata": {},
   "outputs": [],
   "source": [
    "df2 = pd.DataFrame()"
   ]
  },
  {
   "cell_type": "code",
   "execution_count": 246,
   "metadata": {},
   "outputs": [],
   "source": [
    "df5 = pd.concat([df2,df], axis=1)"
   ]
  },
  {
   "cell_type": "code",
   "execution_count": 247,
   "metadata": {},
   "outputs": [
    {
     "data": {
      "text/html": [
       "<div>\n",
       "<style scoped>\n",
       "    .dataframe tbody tr th:only-of-type {\n",
       "        vertical-align: middle;\n",
       "    }\n",
       "\n",
       "    .dataframe tbody tr th {\n",
       "        vertical-align: top;\n",
       "    }\n",
       "\n",
       "    .dataframe thead th {\n",
       "        text-align: right;\n",
       "    }\n",
       "</style>\n",
       "<table border=\"1\" class=\"dataframe\">\n",
       "  <thead>\n",
       "    <tr style=\"text-align: right;\">\n",
       "      <th></th>\n",
       "      <th>질병 이름</th>\n",
       "      <th>진료과</th>\n",
       "      <th>내용</th>\n",
       "    </tr>\n",
       "  </thead>\n",
       "  <tbody>\n",
       "    <tr>\n",
       "      <th>0</th>\n",
       "      <td>골반장기탈출증</td>\n",
       "      <td>산부인과</td>\n",
       "      <td>\\n질병정보 상세 내용보기\\n\\n\\n\\n\\n\\n\\n골반장기탈출증\\n\\n\\n\\n\\n\\...</td>\n",
       "    </tr>\n",
       "    <tr>\n",
       "      <th>1</th>\n",
       "      <td>뇌수막염</td>\n",
       "      <td>감염내과</td>\n",
       "      <td>\\n질병정보 상세 내용보기\\n\\n\\n\\n\\n\\n\\n골반장기탈출증\\n\\n\\n\\n\\n\\...</td>\n",
       "    </tr>\n",
       "    <tr>\n",
       "      <th>2</th>\n",
       "      <td>변실금</td>\n",
       "      <td>소화기내과</td>\n",
       "      <td>\\n질병정보 상세 내용보기\\n\\n\\n\\n\\n\\n\\n골반장기탈출증\\n\\n\\n\\n\\n\\...</td>\n",
       "    </tr>\n",
       "    <tr>\n",
       "      <th>3</th>\n",
       "      <td>지방간</td>\n",
       "      <td>간센터</td>\n",
       "      <td>\\n질병정보 상세 내용보기\\n\\n\\n\\n\\n\\n\\n골반장기탈출증\\n\\n\\n\\n\\n\\...</td>\n",
       "    </tr>\n",
       "    <tr>\n",
       "      <th>4</th>\n",
       "      <td>수면무호흡증</td>\n",
       "      <td>이비인후·두경부외과</td>\n",
       "      <td>\\n질병정보 상세 내용보기\\n\\n\\n\\n\\n\\n\\n골반장기탈출증\\n\\n\\n\\n\\n\\...</td>\n",
       "    </tr>\n",
       "    <tr>\n",
       "      <th>5</th>\n",
       "      <td>협심증</td>\n",
       "      <td>심혈관센터(순환기)</td>\n",
       "      <td>\\n질병정보 상세 내용보기\\n\\n\\n\\n\\n\\n\\n골반장기탈출증\\n\\n\\n\\n\\n\\...</td>\n",
       "    </tr>\n",
       "    <tr>\n",
       "      <th>6</th>\n",
       "      <td>베체트병</td>\n",
       "      <td>류마티스내과</td>\n",
       "      <td>\\n질병정보 상세 내용보기\\n\\n\\n\\n\\n\\n\\n골반장기탈출증\\n\\n\\n\\n\\n\\...</td>\n",
       "    </tr>\n",
       "    <tr>\n",
       "      <th>7</th>\n",
       "      <td>슬관절</td>\n",
       "      <td>정형외과</td>\n",
       "      <td>\\n질병정보 상세 내용보기\\n\\n\\n\\n\\n\\n\\n골반장기탈출증\\n\\n\\n\\n\\n\\...</td>\n",
       "    </tr>\n",
       "    <tr>\n",
       "      <th>8</th>\n",
       "      <td>무릎</td>\n",
       "      <td>정형외과</td>\n",
       "      <td>\\n질병정보 상세 내용보기\\n\\n\\n\\n\\n\\n\\n골반장기탈출증\\n\\n\\n\\n\\n\\...</td>\n",
       "    </tr>\n",
       "    <tr>\n",
       "      <th>9</th>\n",
       "      <td>골관절염</td>\n",
       "      <td>정형외과</td>\n",
       "      <td>\\n질병정보 상세 내용보기\\n\\n\\n\\n\\n\\n\\n골반장기탈출증\\n\\n\\n\\n\\n\\...</td>\n",
       "    </tr>\n",
       "  </tbody>\n",
       "</table>\n",
       "</div>"
      ],
      "text/plain": [
       "     질병 이름         진료과                                                 내용\n",
       "0  골반장기탈출증        산부인과  \\n질병정보 상세 내용보기\\n\\n\\n\\n\\n\\n\\n골반장기탈출증\\n\\n\\n\\n\\n\\...\n",
       "1     뇌수막염        감염내과  \\n질병정보 상세 내용보기\\n\\n\\n\\n\\n\\n\\n골반장기탈출증\\n\\n\\n\\n\\n\\...\n",
       "2      변실금       소화기내과  \\n질병정보 상세 내용보기\\n\\n\\n\\n\\n\\n\\n골반장기탈출증\\n\\n\\n\\n\\n\\...\n",
       "3      지방간         간센터  \\n질병정보 상세 내용보기\\n\\n\\n\\n\\n\\n\\n골반장기탈출증\\n\\n\\n\\n\\n\\...\n",
       "4   수면무호흡증  이비인후·두경부외과  \\n질병정보 상세 내용보기\\n\\n\\n\\n\\n\\n\\n골반장기탈출증\\n\\n\\n\\n\\n\\...\n",
       "5      협심증  심혈관센터(순환기)  \\n질병정보 상세 내용보기\\n\\n\\n\\n\\n\\n\\n골반장기탈출증\\n\\n\\n\\n\\n\\...\n",
       "6     베체트병      류마티스내과  \\n질병정보 상세 내용보기\\n\\n\\n\\n\\n\\n\\n골반장기탈출증\\n\\n\\n\\n\\n\\...\n",
       "7      슬관절        정형외과  \\n질병정보 상세 내용보기\\n\\n\\n\\n\\n\\n\\n골반장기탈출증\\n\\n\\n\\n\\n\\...\n",
       "8       무릎        정형외과  \\n질병정보 상세 내용보기\\n\\n\\n\\n\\n\\n\\n골반장기탈출증\\n\\n\\n\\n\\n\\...\n",
       "9     골관절염        정형외과  \\n질병정보 상세 내용보기\\n\\n\\n\\n\\n\\n\\n골반장기탈출증\\n\\n\\n\\n\\n\\..."
      ]
     },
     "execution_count": 247,
     "metadata": {},
     "output_type": "execute_result"
    }
   ],
   "source": [
    "df5"
   ]
  },
  {
   "cell_type": "code",
   "execution_count": null,
   "metadata": {},
   "outputs": [],
   "source": []
  },
  {
   "cell_type": "code",
   "execution_count": 184,
   "metadata": {},
   "outputs": [],
   "source": [
    "a = get_content(get_nameNdepart())"
   ]
  },
  {
   "cell_type": "code",
   "execution_count": 253,
   "metadata": {},
   "outputs": [],
   "source": [
    "b = get_nameNdepart()"
   ]
  },
  {
   "cell_type": "code",
   "execution_count": 190,
   "metadata": {},
   "outputs": [
    {
     "data": {
      "text/plain": [
       "dict_keys(['골반장기탈출증', '뇌수막염', '변실금', '지방간', '수면무호흡증', '협심증', '베체트병', '슬관절', '무릎', '골관절염'])"
      ]
     },
     "execution_count": 190,
     "metadata": {},
     "output_type": "execute_result"
    }
   ],
   "source": [
    "a.keys()"
   ]
  },
  {
   "cell_type": "code",
   "execution_count": 191,
   "metadata": {},
   "outputs": [
    {
     "data": {
      "text/plain": [
       "dict_keys(['골반장기탈출증', '뇌수막염', '변실금', '지방간', '수면무호흡증', '협심증', '베체트병', '슬관절', '무릎', '골관절염'])"
      ]
     },
     "execution_count": 191,
     "metadata": {},
     "output_type": "execute_result"
    }
   ],
   "source": [
    "b.keys()"
   ]
  },
  {
   "cell_type": "code",
   "execution_count": null,
   "metadata": {},
   "outputs": [],
   "source": []
  },
  {
   "cell_type": "code",
   "execution_count": null,
   "metadata": {},
   "outputs": [],
   "source": []
  },
  {
   "cell_type": "code",
   "execution_count": null,
   "metadata": {},
   "outputs": [],
   "source": []
  },
  {
   "cell_type": "code",
   "execution_count": null,
   "metadata": {},
   "outputs": [],
   "source": []
  },
  {
   "cell_type": "code",
   "execution_count": null,
   "metadata": {},
   "outputs": [],
   "source": []
  },
  {
   "cell_type": "code",
   "execution_count": null,
   "metadata": {},
   "outputs": [],
   "source": []
  },
  {
   "cell_type": "code",
   "execution_count": null,
   "metadata": {},
   "outputs": [],
   "source": []
  },
  {
   "cell_type": "code",
   "execution_count": null,
   "metadata": {},
   "outputs": [],
   "source": []
  },
  {
   "cell_type": "code",
   "execution_count": null,
   "metadata": {},
   "outputs": [],
   "source": []
  },
  {
   "cell_type": "code",
   "execution_count": null,
   "metadata": {},
   "outputs": [],
   "source": []
  },
  {
   "cell_type": "code",
   "execution_count": null,
   "metadata": {},
   "outputs": [],
   "source": []
  },
  {
   "cell_type": "code",
   "execution_count": null,
   "metadata": {},
   "outputs": [],
   "source": []
  },
  {
   "cell_type": "code",
   "execution_count": null,
   "metadata": {},
   "outputs": [],
   "source": []
  },
  {
   "cell_type": "code",
   "execution_count": null,
   "metadata": {},
   "outputs": [],
   "source": []
  }
 ],
 "metadata": {
  "kernelspec": {
   "display_name": "Python 3",
   "language": "python",
   "name": "python3"
  },
  "language_info": {
   "codemirror_mode": {
    "name": "ipython",
    "version": 3
   },
   "file_extension": ".py",
   "mimetype": "text/x-python",
   "name": "python",
   "nbconvert_exporter": "python",
   "pygments_lexer": "ipython3",
   "version": "3.7.1"
  }
 },
 "nbformat": 4,
 "nbformat_minor": 2
}
