{
 "cells": [
  {
   "cell_type": "code",
   "execution_count": 1,
   "metadata": {},
   "outputs": [],
   "source": [
    "import time\n",
    "import os\n",
    "import json\n",
    "import csv\n",
    "from datetime import datetime\n",
    "from datetime import date\n",
    "from dateutil.relativedelta import relativedelta"
   ]
  },
  {
   "cell_type": "code",
   "execution_count": 2,
   "metadata": {},
   "outputs": [],
   "source": [
    "import requests\n",
    "from bs4 import BeautifulSoup\n",
    "import pandas as pd"
   ]
  },
  {
   "cell_type": "code",
   "execution_count": 3,
   "metadata": {},
   "outputs": [],
   "source": [
    "from selenium import webdriver\n",
    "from selenium.webdriver.support.ui import WebDriverWait\n",
    "from selenium.webdriver.support import expected_conditions as EC \n",
    "from selenium.webdriver.common.by import By"
   ]
  },
  {
   "cell_type": "code",
   "execution_count": 4,
   "metadata": {},
   "outputs": [],
   "source": [
    "from bs4 import BeautifulSoup\n",
    "from selenium import webdriver\n",
    "from selenium.common import exceptions\n",
    "from collections import defaultdict\n"
   ]
  },
  {
   "cell_type": "code",
   "execution_count": null,
   "metadata": {},
   "outputs": [],
   "source": []
  },
  {
   "cell_type": "code",
   "execution_count": 9,
   "metadata": {},
   "outputs": [],
   "source": [
    "def input_keyword(keyword):\n",
    "    # (str) -> str\n",
    "    # return url which includes keyword\n",
    "    \n",
    "    # url = 'https://www.indeed.com/?from=gnav-homepage'\n",
    "    url = \"https://www.indeed.com/jobs?q=&l=\" + keyword + \"&start=\"\n",
    "    return url\n",
    "    "
   ]
  },
  {
   "cell_type": "code",
   "execution_count": 53,
   "metadata": {},
   "outputs": [],
   "source": [
    "def move_page(url, keyword):\n",
    "    '''\n",
    "    (str) -> ()\n",
    "    \n",
    "    '''\n",
    "    page = input(\"총 몇 페이지까지 크롤링할까요? \")\n",
    "    \n",
    "    for p in range(0, int(page), 10):\n",
    "        print(url+str(p))\n",
    "        get_info(url+str(p), keyword)\n",
    "        print(p, '페이지 크롤링 완료')\n",
    "        print()"
   ]
  },
  {
   "cell_type": "code",
   "execution_count": 77,
   "metadata": {},
   "outputs": [],
   "source": [
    "def get_info(url, keyword):\n",
    "    options = webdriver.ChromeOptions()\t\n",
    "    # options.add_argument('headless')\t\n",
    "    options.add_argument('disable-gpu')\t\n",
    "    driver = webdriver.Chrome('chromedriver.exe', options=options)\n",
    "    driver.get(url)\n",
    "    # 가끔 '구독'하라는 '팝업창이 뜸'\n",
    "    try:\n",
    "        corp_list = driver.find_elements_by_tag_name(\"div.jobsearch-SerpJobCard\")\n",
    "        link_list= driver.find_elements_by_tag_name('h2.title > a')\n",
    "    except:\n",
    "        driver.find_element_by_xpath(\"//*[@id='popover-close-link']\").click()\n",
    "        print(\"팝업... BYEBYE\")\n",
    "        time.sleep(5)\n",
    "        corp_list = driver.find_elements_by_tag_name(\"div.jobsearch-SerpJobCard\")\n",
    "        link_list= driver.find_elements_by_tag_name('h2.title > a')\n",
    "    \n",
    "    print(corp_list)\n",
    "    new_driver = webdriver.Chrome('chromedriver.exe', options=options)\n",
    "    for idx, corp in enumerate(corp_list):\n",
    "        time.sleep(2)\n",
    "        print(corp)\n",
    "        # Message: stale element reference: element is not attached to the page document\n",
    "        #   (Session info: chrome=83.0.4103.116)\n",
    "        # 해결법: https://stackoverflow.com/questions/18225997/stale-element-reference-element-is-not-attached-to-the-page-document\n",
    "        # 동일한 행위 한 번 더 \n",
    "        try:\n",
    "            time.sleep(2)\n",
    "            detail_link = link_list[idx].get_attribute('href')\n",
    "            print(detail_link)\n",
    "        except Exception as e:\n",
    "            time.sleep(2)\n",
    "            print(e)\n",
    "            detail_link = link_list[idx].get_attribute('href')\n",
    "            print(detail_link)\n",
    "        \n",
    "        \n",
    "        time.sleep(5)\n",
    "        new_driver.get(detail_link)\n",
    "        \n",
    "        corp_cnt = list()\n",
    "\n",
    "        try:\n",
    "            job_title = corp.find_element_by_tag_name(\"h2.title\").text.split('\\n')[0]\n",
    "        except:\n",
    "            job_title = \"NULL\"\n",
    "        try:\n",
    "            company_name = corp.find_element_by_tag_name(\"span.company\").text\n",
    "        except:\n",
    "            company_name = \"NULL\"\n",
    "        try:\n",
    "            location = corp.find_element_by_tag_name(\"div.sjcl > span\").text\n",
    "        except:\n",
    "            location = \"NULL\"\n",
    "        try:\n",
    "            minus_date = corp.find_element_by_tag_name(\"span.date\").text.split(\" \")[0]\n",
    "            try:\n",
    "                minus_date = int(minus_date)\n",
    "                minus_date = str(date.today() + relativedelta(days=-minus_date))\n",
    "            except:\n",
    "                if minus_date == 'Today' or 'Just':\n",
    "                    minus_date = str(date.today())\n",
    "                else:\n",
    "                    minus_date = 'at least a month ago'\n",
    "        except:\n",
    "            minus_date = \"NULL\"\n",
    "        try:\n",
    "            short_descript = corp.find_element_by_tag_name(\"div.summary\").text\n",
    "        except:\n",
    "            short_descript = \"NULL\"\n",
    "            \n",
    "        time.sleep(3)\n",
    "        try:\n",
    "            detail = new_driver.find_element_by_tag_xpath('/html/body/div[1]/div[1]/div[3]/div/div/div[1]/div[1]').text\n",
    "            print('1번', detail[:50])\n",
    "        except:\n",
    "            try:\n",
    "                detail = new_driver.find_element_by_xpath(\"//*[@id='jobDescriptionText']\").text\n",
    "                print('2번', detail[:50])\n",
    "            except Exception as e:\n",
    "                detail = \"NULL\"\n",
    "                print('3번', e)\n",
    "        \n",
    "        corp_cnt.append(job_title)\n",
    "        corp_cnt.append(company_name)\n",
    "        corp_cnt.append(location)\n",
    "        corp_cnt.append(minus_date)\n",
    "        corp_cnt.append(short_descript)\n",
    "        corp_cnt.append(detail)\n",
    "        corp_cnt.append(detail_link)\n",
    "        \n",
    "        driver.back()\n",
    "        time.sleep(3)\n",
    "        write_csv(keyword, \"_indeed_ver3\", corp_cnt)\n",
    "    driver.close()"
   ]
  },
  {
   "cell_type": "code",
   "execution_count": 78,
   "metadata": {},
   "outputs": [],
   "source": [
    "#    wr.writrow(['job_title', 'company_name', 'location', 'minus_date', 'short_descript'])\n",
    "def write_csv(keyword, filename, info_list):\n",
    "    csv_file = open(str(keyword)+str(filename)+'.csv', \"a\", encoding = 'utf-8-sig', newline= '')\n",
    "    wr = csv.writer(csv_file)\n",
    "    wr.writerow(info_list)\n",
    "    csv_file.close()"
   ]
  },
  {
   "cell_type": "code",
   "execution_count": 79,
   "metadata": {},
   "outputs": [],
   "source": [
    "def main():\n",
    "    keyword = input(\"검색 키워드를 입력하세요\")\n",
    "    url = input_keyword(keyword)\n",
    "    move_page(url, keyword)"
   ]
  },
  {
   "cell_type": "code",
   "execution_count": null,
   "metadata": {
    "scrolled": true
   },
   "outputs": [],
   "source": [
    "if __name__ == \"__main__\":\n",
    "    main()"
   ]
  },
  {
   "cell_type": "code",
   "execution_count": null,
   "metadata": {},
   "outputs": [],
   "source": []
  },
  {
   "cell_type": "code",
   "execution_count": null,
   "metadata": {},
   "outputs": [],
   "source": []
  }
 ],
 "metadata": {
  "kernelspec": {
   "display_name": "Python 3",
   "language": "python",
   "name": "python3"
  },
  "language_info": {
   "codemirror_mode": {
    "name": "ipython",
    "version": 3
   },
   "file_extension": ".py",
   "mimetype": "text/x-python",
   "name": "python",
   "nbconvert_exporter": "python",
   "pygments_lexer": "ipython3",
   "version": "3.7.1"
  }
 },
 "nbformat": 4,
 "nbformat_minor": 2
}
