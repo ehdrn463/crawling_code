{
 "cells": [
  {
   "cell_type": "markdown",
   "metadata": {},
   "source": [
    "http://www.fss.or.kr/edu/notice/faq/faq_list.jsp?edubbs=all&page=1&s_title=&s_kind=&sdate=&b_skincode=1327884662812&menu=&edate=&cate="
   ]
  },
  {
   "cell_type": "code",
   "execution_count": 1,
   "metadata": {},
   "outputs": [],
   "source": [
    "import time\n",
    "import os\n",
    "import json\n",
    "from datetime import datetime\n",
    "import math"
   ]
  },
  {
   "cell_type": "code",
   "execution_count": 2,
   "metadata": {},
   "outputs": [],
   "source": [
    "import requests\n",
    "from bs4 import BeautifulSoup\n",
    "import pandas as pd\n",
    "import csv\n",
    "from tqdm import tqdm_notebook"
   ]
  },
  {
   "cell_type": "code",
   "execution_count": 24,
   "metadata": {},
   "outputs": [],
   "source": [
    "from bs4 import BeautifulSoup\n",
    "from selenium import webdriver\n",
    "from selenium.common import exceptions\n",
    "from collections import defaultdict\n",
    "from copy import deepcopy\n",
    "from tqdm import tqdm_notebook"
   ]
  },
  {
   "cell_type": "markdown",
   "metadata": {},
   "source": [
    "url page 2개  \n",
    "'http://www.fss.or.kr/edu/notice/faq/faq_list.jsp?edubbs=all&page=%s&s_title=&s_kind=&sdate=&b_skincode=1327884662812&menu=&edate=&cate='%(str(idx))"
   ]
  },
  {
   "cell_type": "code",
   "execution_count": 25,
   "metadata": {},
   "outputs": [
    {
     "name": "stdout",
     "output_type": "stream",
     "text": [
      "http://www.fss.or.kr/edu/notice/faq/faq_list.jsp?edubbs=all&page=1&s_title=&s_kind=&sdate=&b_skincode=1327884662812&menu=&edate=&cate=\n",
      "http://www.fss.or.kr/edu/notice/faq/faq_list.jsp?edubbs=all&page=2&s_title=&s_kind=&sdate=&b_skincode=1327884662812&menu=&edate=&cate=\n"
     ]
    }
   ],
   "source": [
    "for idx in range(1, 3):\n",
    "    print('http://www.fss.or.kr/edu/notice/faq/faq_list.jsp?edubbs=all&page=%s&s_title=&s_kind=&sdate=&b_skincode=1327884662812&menu=&edate=&cate='%(str(idx)))"
   ]
  },
  {
   "cell_type": "code",
   "execution_count": 30,
   "metadata": {},
   "outputs": [],
   "source": [
    "def get_qnaList(url):\n",
    "#     url = 'http://www.fss.or.kr/edu/notice/faq/faq_list.jsp?edubbs=all&page=1&s_title=&s_kind=&sdate=&b_skincode=1327884662812&menu=&edate=&cate='\n",
    "\n",
    "    req = requests.get(url)\n",
    "    cont = req.content\n",
    "    soup = BeautifulSoup(cont, 'html.parser')\n",
    "\n",
    "    qna_list = soup.select('td.td_tit > a')\n",
    "\n",
    "    for idx, qna in enumerate(qna_list):\n",
    "        qna_list[idx] = 'http://www.fss.or.kr/edu/notice/faq/' + qna['href']\n",
    "\n",
    "    return qna_list"
   ]
  },
  {
   "cell_type": "code",
   "execution_count": 31,
   "metadata": {},
   "outputs": [],
   "source": [
    "def get_qnaContent(url):\n",
    "    req = requests.get(url)\n",
    "    cont = req.content\n",
    "    soup = BeautifulSoup(cont, 'html.parser')\n",
    "    \n",
    "    qna = dict()\n",
    "    qna['제목'] = soup.select_one('div.tblWrap > table > tbody > tr:nth-of-type(1) > td').text\n",
    "    qna['등록일'] = soup.select('div.tblWrap > table > tbody > tr:nth-of-type(2) > td')[0].text\n",
    "    qna['조회수'] = soup.select('div.tblWrap > table > tbody > tr:nth-of-type(2) > td')[1].text\n",
    "    try:\n",
    "        qna['첨부파일'] = soup.select_one('div.tblWrap > table > tbody > tr:nth-of-type(3) > td').text\n",
    "    except:\n",
    "        qna['첨부파일'] = 'NULL'\n",
    "    qna['답변'] = soup.select_one('div.tblWrap > table > tbody > tr:nth-of-type(4) > td').text\n",
    "    qna['담당부서'] = soup.select_one('div.contWrap > div.context > div.tblWrap > table > tbody > tr:nth-of-type(5) > td').text\n",
    "    qna['담당팀'] = soup.select_one('div.contWrap > div.context > div.tblWrap > table > tbody > tr:nth-of-type(5) > td:nth-of-type(2)').text\n",
    "    qna['자료문의'] = soup.select_one('div.contWrap > div.context > div.tblWrap > table > tbody > tr:nth-of-type(6) > td').text\n",
    "    \n",
    "    \n",
    "    return qna"
   ]
  },
  {
   "cell_type": "code",
   "execution_count": 32,
   "metadata": {},
   "outputs": [],
   "source": [
    "def main():\n",
    "    total_qnaList = list()\n",
    "    fileName = '금융감독원(금융교육센터)'\n",
    "    csv_file = open(str(fileName) + '.csv', \"w\", encoding = 'utf-8-sig', newline = '')\n",
    "    \n",
    "    columns = ['제목', '등록일', '조회수', '첨부파일', '답변', '담당부서', '담당팀', '자료문의']\n",
    "    \n",
    "    wr = csv.writer(csv_file)    \n",
    "    wr.writerow(columns)\n",
    "    \n",
    "    for idx in range(1, 3):\n",
    "        url = 'http://www.fss.or.kr/edu/notice/faq/faq_list.jsp?edubbs=all&page=%s&s_title=&s_kind=&sdate=&b_skincode=1327884662812&menu=&edate=&cate='%(str(idx))\n",
    "        qnaList = get_qnaList(url)\n",
    "        \n",
    "        for qna in qnaList:\n",
    "            qnaContent = get_qnaContent(qna)\n",
    "            print(qnaContent)\n",
    "            total_qnaList.append(qnaContent)\n",
    "    \n",
    "    \n",
    "    # '모든 수집 복지서비스'에 대한 반복문 -> 복지 서비스 하나\n",
    "    for info_dict in total_qnaList:\n",
    "        # 'columns'을 돌면서 info_dict가 해당 col을 가지고 있으면 정보를 적고, 없으면 NULL\n",
    "        wr.writerow([info_dict.get(col, 'NULL') for col in columns])\n",
    "    \n",
    "    print('==================== 저장 완료 =======================')\n",
    "    csv_file.close()\n",
    "            \n",
    "    "
   ]
  },
  {
   "cell_type": "code",
   "execution_count": 33,
   "metadata": {},
   "outputs": [
    {
     "name": "stdout",
     "output_type": "stream",
     "text": [
      "{'제목': '금융공모전 접수시 \"적절한 파일이 아닙니다\"라는 경고창이 표시되면서 접수가 되지 않습니다.', '등록일': '2019-10-01', '조회수': '192', '첨부파일': '\\n', '답변': '\\n\\xa0\\n첨부하신 파일의 파일명이 아래 사항에 해당되는 경우 파일명을 수정하신 후\\xa0다시 시도하시기 바랍니다.\\n\\xa0\\n1. 파일명에서 확장자명 앞에 점(.) 등이 중복 입력\\xa0→ 파일명 수정\\n\\xa0\\xa0\\xa0\\xa0(ex.\\xa0 금융창작물_학교장추천서..pdf\\xa0\\xa0 →\\xa0 금융창작물_학교장추천서.pdf)\\n\\xa0\\n2. 파일명 확장자가 대문자로 입력 → 소문자로 변경\\n\\xa0\\xa0\\xa0 (ex. PDF → pdf)\\n\\xa0\\n3. 파일명에 특수문자 포함\\xa0 → 특수문자 삭제\\n\\xa0\\xa0\\xa0 (ex. 금융창작물&학교장추천서.jpg\\xa0 → 금융창작물 학교장추천서.jpg)\\n\\xa0\\n', '담당부서': '금융교육국', '담당팀': '금융교육기획팀', '자료문의': '02-3145-5983'}\n",
      "{'제목': '금융공모전 작품을 제출하려고 하는데, 이메일 인증이 안됩니다.', '등록일': '2019-10-01', '조회수': '165', '첨부파일': '\\n', '답변': '\\n\\xa0\\n이메일 주소를 입력하신 후, 도메인 주소(@naver.com, @hanmail.net 등)를 \\n드롭다운 목록에서 선택하지 않고 직접 입력하신 경우에도\\n드롭다운 목록의 가장 하단에 있는 \"직접 입력\" 이라는 항목을 선택해주셔야 합니다.\\n\\xa0\\n', '담당부서': '금융교육국', '담당팀': '금융교육기획팀', '자료문의': '02-3145-5983'}\n",
      "{'제목': 'FSS금융아카데미는 언제 시행되나요?', '등록일': '2019-05-02', '조회수': '530', '첨부파일': '\\n', '답변': '\\nFSS 금융아카데미의 경우,\\xa0매년 3-4월부터 12월까지 매달 마지막주 금요일에 일반과정을 개최하고 있습니다. (8월 제외)\\n자세한 일정은 FSS금융아카데미 관련 보도자료를 참고하시기 바랍니다.\\n', '담당부서': '인재교육원', '담당팀': '연수운영팀', '자료문의': '02-3145-6383'}\n",
      "{'제목': '금융교육 교재를 신청하였는데, 언제 배송되나요?', '등록일': '2019-05-02', '조회수': '464', '첨부파일': '\\n', '답변': '\\n금융교육홈페이지를 통해 신청하신 교재는 매월 1일과 15일(휴일인 경우 익일)에 일괄 발송처리 됩니다.\\n', '담당부서': '금융교육국', '담당팀': '학교금융교육팀', '자료문의': '02-3145-5975'}\n",
      "{'제목': '대학생 금융이해력 조사 설문기간이 지난 경우, 다시 참여할수 없을까요?', '등록일': '2019-05-02', '조회수': '301', '첨부파일': '\\n', '답변': '\\n대학생 금융이해력 조사 메뉴는 금융교육 전후 이해력을 측정하기 위하여 대학 실용금융 수강생을 대상으로 \\n사전 공지된 기간에만 운영되며, 기간이 경과한 경우 다시 참여하실 수 없으므로 이용에 유의하시기 바랍니다.\\n', '담당부서': '금융교육국', '담당팀': '일반금융교육팀', '자료문의': '02-3145-5981'}\n",
      "{'제목': '비밀번호를 분실하였는데, 등록된 이메일주소가 사용하지 않는 계정이라 비밀번호 찾기가 불가능합니다.', '등록일': '2019-05-02', '조회수': '319', '첨부파일': '\\n', '답변': '\\n\\xa0\\n이용자의 개인정보는 암호화되어 저장되므로, 금융감독원에서도 이용자의 비밀번호는 확인이 불가능합니다.\\n\\xa0\\n다만 회원정보에 등록된 이메일주소는 변경조치가 가능하오니\\n회원정보에 등록하신 이메일주소가 현재 사용하지 않는 계정에 해당하는 경우,\\n\\xa0\\n성함, 금융교육센터 아이디, 변경을 원하시는 이메일주소를 유선()으로 알려주시고\\n조치가 완료되면 비밀번호 찾기를 다시 진행하여 주시기 바랍니다.\\n', '담당부서': '금융교육국', '담당팀': '금융교육기획팀', '자료문의': '02-3145-5959'}\n",
      "{'제목': '대학생 금융이해력 조사의 문제와 답을 알수 있나요?', '등록일': '2019-05-02', '조회수': '419', '첨부파일': '\\n', '답변': '\\n대학생 금융이해력 조사 메뉴는 대학 실용금융 수강생의 금융교육 전후 이해력을 측정하고 비교하기 위하여 운영하고 있으므로,\\n문항과 정답은 공지되지 않습니다.\\n', '담당부서': '금융교육국', '담당팀': '일반금융교육팀', '자료문의': '02-3145-5981'}\n",
      "{'제목': '강사마당은 어떻게 이용할 수 있나요?', '등록일': '2012-04-16', '조회수': '3228', '첨부파일': '\\n', '답변': '\\r\\n                                          강사마당은 금융교육 강사 또는 교사들을 위한 공간입니다. 강사마당을 이용하기 위해서는 관리자의 승인이 필요하여,\\xa0절차는 아래와 같습니다.\\r\\n1단계 : 금융교육 홈페이지 회원가입(금융교육 강사)\\r\\n2단계 : 강사마당(금융교육 홈페이지 > 열린마당)에서 강사신청을 합니다.\\r\\n3단계 : 관리자의 승인에 의해 강사마당을 이용할 수 있습니다\\n관리자 승인과 관련한 문의 : 금융교육국 금융교육기획팀 ()\\r\\n                                      ', '담당부서': '금융교육국', '담당팀': '금융교육기획팀', '자료문의': '02-3145-5959'}\n",
      "{'제목': '이메일 서비스는 무엇인가요?', '등록일': '2012-03-16', '조회수': '2841', '첨부파일': '\\n', '답변': '\\n\\r\\n\\t이메일 서비스란 고객여러분의 이메일 등을 통해 금융감독정책 및 금융관련 지식 등 정보를 제공하는 서비스를 지칭하며, 무료로 제공됩니다. 이메일 수신에 동의하면 아래와 같은 목적으로 사용됩니다\\n\\r\\n\\t\\xa0 - 금융감독정책 및 금융관련 지식 등 정보 제공\\r\\n\\t\\xa0 - 행사안내 및 홍보를 위한 정보 제공\\r\\n\\t\\xa0 - 설문조사, 회원관리, 신규 서비스 개발\\n\\r\\n\\t* 이메일서비스는 회원가입시 수신여부를 표시하도록 하고 있습니다.\\n', '담당부서': '금융교육국', '담당팀': '금융교육기획팀', '자료문의': '02-3145-5959'}\n",
      "{'제목': '교사금융연수를 신청하려고 합니다. 신청 등 공지는 언제 하나요?', '등록일': '2012-03-16', '조회수': '3027', '첨부파일': '\\n', '답변': '\\n□ 일선 교사들의 금융교육에 대한 관심 제고 및 금융이해력 향상을 통해 학교 금융교육이 활성화되도록 초‧중‧고교 교사를 대상으로 금융연수 실시하고 있습니다.\\n□ 교사금융연수 관련 공지는 매년 6월, 11월말에 금융교육 홈페이지를 통해 게시하며, 교육과 관련한 세부 사항은 교사금융연수 \\n\\xa0\\xa0\\xa0 담당자(☎\\xa0 )에게 문의하시기 바랍니다.\\n', '담당부서': '금융교육국', '담당팀': '금융교육기획팀', '자료문의': '02-3145-5959'}\n",
      "{'제목': '초등학생입니다. 회원으로 가입하려고 하는데 실명인증이 안됩니다. 어떻게 하면 되나요?', '등록일': '2012-03-16', '조회수': '2627', '첨부파일': '\\n', '답변': '\\n\\r\\n\\t만 14미만의 회원가입 코너를 이용하여 회원가입을 하시면 됩니다. 그런데 실명인증이 안되시나요? 그럼 아래의 안내문을 참고해주세요\\n\\r\\n\\t\\xa0 ① 개인정보보호법상 법적근거 없이 주민등록번호를 수집할 수 없기 때문에 실명인증은 아이핀으로\\xa0진행됩니다.\\r\\n\\t\\xa0 ②\\xa014세 미만인 경우\\xa0정보통신망법 제 31조에 의거하여 법정대리인의 동의를 통해 발급이 가능합니다.\\r\\n\\t\\xa0\\xa0③ 법정대리인 신원확인 수단은 휴대폰, 공인인증서, 신용카드로 가능합니다.\\r\\n\\t\\xa0\\xa0④\\xa0아이핀을 신규발급 받으신\\xa0후 아이핀\\xa0ID와\\xa0비밀번호를 입력하시면 실명인증이 완료 됩니다.\\n\\r\\n\\t==================================================\\n\\r\\n\\t아이핀에 대해 궁금하신 사항이 있으시면\\n\\nhttp://www.niceipin.co.kr/에 접속하셔서 자주하는 질문을 참고하시기 바랍니다.\\n', '담당부서': '금융교육국', '담당팀': '금융교육기획팀', '자료문의': '02-3145-5959'}\n",
      "{'제목': '금융교육 홈페이지 회원으로 가입을 하면 어떤 점이 좋은가요?', '등록일': '2012-03-16', '조회수': '2920', '첨부파일': '\\n', '답변': '\\n\\r\\n\\t금융교육 홈페이지 회원으로 가입하면 아래와 같은 좋은 점이 있습니다.\\n\\r\\n\\t\\xa0\\xa0 1. 금융교육 홈페이지 회원에게 제공되는 서비스를 이용할 수 있습니다.\\r\\n\\t\\xa0\\r\\n\\t\\xa0\\xa0\\xa0\\xa0 - 금융교육 교재 및 금융교육 신청\\r\\n\\t\\xa0\\xa0\\xa0\\xa0 - 자유게시판 글 등록\\r\\n\\t\\xa0\\xa0\\xa0\\xa0 - 각 종 이벤트 행사에의 참여\\r\\n\\t\\xa0\\xa0\\xa0\\xa0 - 금융이해력 측정\\n\\r\\n\\t\\xa0\\xa0 2. 회원으로 등록하면 마일리지가 적립되고 \\xa0마일리지왕 이벤트 등 행사에 응모됩니다\\n', '담당부서': '금융교육국', '담당팀': '금융교육기획팀', '자료문의': '02-3145-5959'}\n",
      "==================== 저장 완료 =======================\n"
     ]
    }
   ],
   "source": [
    "if __name__ == \"__main__\":\n",
    "    main()"
   ]
  },
  {
   "cell_type": "code",
   "execution_count": null,
   "metadata": {},
   "outputs": [],
   "source": []
  }
 ],
 "metadata": {
  "kernelspec": {
   "display_name": "Python 3",
   "language": "python",
   "name": "python3"
  },
  "language_info": {
   "codemirror_mode": {
    "name": "ipython",
    "version": 3
   },
   "file_extension": ".py",
   "mimetype": "text/x-python",
   "name": "python",
   "nbconvert_exporter": "python",
   "pygments_lexer": "ipython3",
   "version": "3.7.1"
  }
 },
 "nbformat": 4,
 "nbformat_minor": 2
}
